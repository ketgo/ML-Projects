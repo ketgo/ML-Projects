{
 "cells": [
  {
   "cell_type": "code",
   "execution_count": 9,
   "metadata": {},
   "outputs": [],
   "source": [
    "# Adding src/ folder to import path\n",
    "import sys\n",
    "\n",
    "sys.path.append(\"../src\")"
   ]
  },
  {
   "cell_type": "code",
   "execution_count": 22,
   "metadata": {},
   "outputs": [],
   "source": [
    "import os.path\n",
    "\n",
    "import IPython.display as ipd\n",
    "import librosa\n",
    "import librosa.display\n",
    "import matplotlib.pyplot as plt\n",
    "import numpy as np\n",
    "import pandas as pd\n",
    "import seaborn as sb\n",
    "import swifter\n",
    "from birdclef.load_data import *\n",
    "from birdclef.postprocessing import *\n",
    "\n",
    "DATA_PATH = \"/workspace/Data/birdclef-2021\"\n",
    "SAMPLE_RATE = 32000\n",
    "NORM_ENERGY = 100\n",
    "N_MEL = 200"
   ]
  },
  {
   "cell_type": "code",
   "execution_count": 11,
   "metadata": {},
   "outputs": [
    {
     "data": {
      "text/html": [
       "<div>\n",
       "<style scoped>\n",
       "    .dataframe tbody tr th:only-of-type {\n",
       "        vertical-align: middle;\n",
       "    }\n",
       "\n",
       "    .dataframe tbody tr th {\n",
       "        vertical-align: top;\n",
       "    }\n",
       "\n",
       "    .dataframe thead th {\n",
       "        text-align: right;\n",
       "    }\n",
       "</style>\n",
       "<table border=\"1\" class=\"dataframe\">\n",
       "  <thead>\n",
       "    <tr style=\"text-align: right;\">\n",
       "      <th></th>\n",
       "      <th>row_id</th>\n",
       "      <th>site</th>\n",
       "      <th>audio_id</th>\n",
       "      <th>seconds</th>\n",
       "      <th>birds</th>\n",
       "      <th>is_call</th>\n",
       "    </tr>\n",
       "  </thead>\n",
       "  <tbody>\n",
       "    <tr>\n",
       "      <th>0</th>\n",
       "      <td>7019_COR_5</td>\n",
       "      <td>COR</td>\n",
       "      <td>7019</td>\n",
       "      <td>5</td>\n",
       "      <td>nocall</td>\n",
       "      <td>0</td>\n",
       "    </tr>\n",
       "    <tr>\n",
       "      <th>1</th>\n",
       "      <td>7019_COR_10</td>\n",
       "      <td>COR</td>\n",
       "      <td>7019</td>\n",
       "      <td>10</td>\n",
       "      <td>nocall</td>\n",
       "      <td>0</td>\n",
       "    </tr>\n",
       "    <tr>\n",
       "      <th>2</th>\n",
       "      <td>7019_COR_15</td>\n",
       "      <td>COR</td>\n",
       "      <td>7019</td>\n",
       "      <td>15</td>\n",
       "      <td>nocall</td>\n",
       "      <td>0</td>\n",
       "    </tr>\n",
       "    <tr>\n",
       "      <th>3</th>\n",
       "      <td>7019_COR_20</td>\n",
       "      <td>COR</td>\n",
       "      <td>7019</td>\n",
       "      <td>20</td>\n",
       "      <td>nocall</td>\n",
       "      <td>0</td>\n",
       "    </tr>\n",
       "    <tr>\n",
       "      <th>4</th>\n",
       "      <td>7019_COR_25</td>\n",
       "      <td>COR</td>\n",
       "      <td>7019</td>\n",
       "      <td>25</td>\n",
       "      <td>nocall</td>\n",
       "      <td>0</td>\n",
       "    </tr>\n",
       "    <tr>\n",
       "      <th>...</th>\n",
       "      <td>...</td>\n",
       "      <td>...</td>\n",
       "      <td>...</td>\n",
       "      <td>...</td>\n",
       "      <td>...</td>\n",
       "      <td>...</td>\n",
       "    </tr>\n",
       "    <tr>\n",
       "      <th>2395</th>\n",
       "      <td>54955_SSW_580</td>\n",
       "      <td>SSW</td>\n",
       "      <td>54955</td>\n",
       "      <td>580</td>\n",
       "      <td>nocall</td>\n",
       "      <td>0</td>\n",
       "    </tr>\n",
       "    <tr>\n",
       "      <th>2396</th>\n",
       "      <td>54955_SSW_585</td>\n",
       "      <td>SSW</td>\n",
       "      <td>54955</td>\n",
       "      <td>585</td>\n",
       "      <td>grycat</td>\n",
       "      <td>1</td>\n",
       "    </tr>\n",
       "    <tr>\n",
       "      <th>2397</th>\n",
       "      <td>54955_SSW_590</td>\n",
       "      <td>SSW</td>\n",
       "      <td>54955</td>\n",
       "      <td>590</td>\n",
       "      <td>grycat</td>\n",
       "      <td>1</td>\n",
       "    </tr>\n",
       "    <tr>\n",
       "      <th>2398</th>\n",
       "      <td>54955_SSW_595</td>\n",
       "      <td>SSW</td>\n",
       "      <td>54955</td>\n",
       "      <td>595</td>\n",
       "      <td>nocall</td>\n",
       "      <td>0</td>\n",
       "    </tr>\n",
       "    <tr>\n",
       "      <th>2399</th>\n",
       "      <td>54955_SSW_600</td>\n",
       "      <td>SSW</td>\n",
       "      <td>54955</td>\n",
       "      <td>600</td>\n",
       "      <td>nocall</td>\n",
       "      <td>0</td>\n",
       "    </tr>\n",
       "  </tbody>\n",
       "</table>\n",
       "<p>2400 rows × 6 columns</p>\n",
       "</div>"
      ],
      "text/plain": [
       "             row_id site  audio_id  seconds   birds  is_call\n",
       "0        7019_COR_5  COR      7019        5  nocall        0\n",
       "1       7019_COR_10  COR      7019       10  nocall        0\n",
       "2       7019_COR_15  COR      7019       15  nocall        0\n",
       "3       7019_COR_20  COR      7019       20  nocall        0\n",
       "4       7019_COR_25  COR      7019       25  nocall        0\n",
       "...             ...  ...       ...      ...     ...      ...\n",
       "2395  54955_SSW_580  SSW     54955      580  nocall        0\n",
       "2396  54955_SSW_585  SSW     54955      585  grycat        1\n",
       "2397  54955_SSW_590  SSW     54955      590  grycat        1\n",
       "2398  54955_SSW_595  SSW     54955      595  nocall        0\n",
       "2399  54955_SSW_600  SSW     54955      600  nocall        0\n",
       "\n",
       "[2400 rows x 6 columns]"
      ]
     },
     "execution_count": 11,
     "metadata": {},
     "output_type": "execute_result"
    }
   ],
   "source": [
    "# Loading labels\n",
    "df = load_labels(DATA_PATH)\n",
    "\n",
    "# Creating labels for presence of call\n",
    "df[\"is_call\"] = df.apply(\n",
    "    lambda x: 0 if x[\"birds\"] == \"nocall\" else 1, axis=1\n",
    ")\n",
    "\n",
    "df"
   ]
  },
  {
   "cell_type": "code",
   "execution_count": 12,
   "metadata": {},
   "outputs": [
    {
     "data": {
      "text/plain": [
       "0    1529\n",
       "1     871\n",
       "Name: is_call, dtype: int64"
      ]
     },
     "execution_count": 12,
     "metadata": {},
     "output_type": "execute_result"
    }
   ],
   "source": [
    "df[\"is_call\"].value_counts()"
   ]
  },
  {
   "cell_type": "code",
   "execution_count": 13,
   "metadata": {},
   "outputs": [],
   "source": [
    "# ---"
   ]
  },
  {
   "cell_type": "code",
   "execution_count": 14,
   "metadata": {},
   "outputs": [],
   "source": [
    "date, signal = load_soundscape_audio(\n",
    "    \"7019_COR\", DATA_PATH + \"/train_soundscapes\", SAMPLE_RATE\n",
    ")"
   ]
  },
  {
   "cell_type": "code",
   "execution_count": 15,
   "metadata": {},
   "outputs": [
    {
     "data": {
      "text/plain": [
       "(19200000,)"
      ]
     },
     "execution_count": 15,
     "metadata": {},
     "output_type": "execute_result"
    }
   ],
   "source": [
    "signal.shape"
   ]
  },
  {
   "cell_type": "code",
   "execution_count": 19,
   "metadata": {},
   "outputs": [
    {
     "data": {
      "application/vnd.jupyter.widget-view+json": {
       "model_id": "4a7704e3e541490a83fde1a8cd69a84e",
       "version_major": 2,
       "version_minor": 0
      },
      "text/plain": [
       "Pandas Apply:   0%|          | 0/2400 [00:00<?, ?it/s]"
      ]
     },
     "metadata": {},
     "output_type": "display_data"
    },
    {
     "data": {
      "text/html": [
       "<div>\n",
       "<style scoped>\n",
       "    .dataframe tbody tr th:only-of-type {\n",
       "        vertical-align: middle;\n",
       "    }\n",
       "\n",
       "    .dataframe tbody tr th {\n",
       "        vertical-align: top;\n",
       "    }\n",
       "\n",
       "    .dataframe thead th {\n",
       "        text-align: right;\n",
       "    }\n",
       "</style>\n",
       "<table border=\"1\" class=\"dataframe\">\n",
       "  <thead>\n",
       "    <tr style=\"text-align: right;\">\n",
       "      <th></th>\n",
       "      <th>row_id</th>\n",
       "      <th>site</th>\n",
       "      <th>audio_id</th>\n",
       "      <th>seconds</th>\n",
       "      <th>birds</th>\n",
       "      <th>is_call</th>\n",
       "      <th>signal</th>\n",
       "      <th>date</th>\n",
       "    </tr>\n",
       "  </thead>\n",
       "  <tbody>\n",
       "    <tr>\n",
       "      <th>0</th>\n",
       "      <td>7019_COR_5</td>\n",
       "      <td>COR</td>\n",
       "      <td>7019</td>\n",
       "      <td>5</td>\n",
       "      <td>nocall</td>\n",
       "      <td>0</td>\n",
       "      <td>[-0.08553279, -0.08384135, -0.041250665, -0.01...</td>\n",
       "      <td>20190904</td>\n",
       "    </tr>\n",
       "    <tr>\n",
       "      <th>1</th>\n",
       "      <td>7019_COR_10</td>\n",
       "      <td>COR</td>\n",
       "      <td>7019</td>\n",
       "      <td>10</td>\n",
       "      <td>nocall</td>\n",
       "      <td>0</td>\n",
       "      <td>[0.021114878, 0.003057547, -0.02268604, 0.0004...</td>\n",
       "      <td>20190904</td>\n",
       "    </tr>\n",
       "    <tr>\n",
       "      <th>2</th>\n",
       "      <td>7019_COR_15</td>\n",
       "      <td>COR</td>\n",
       "      <td>7019</td>\n",
       "      <td>15</td>\n",
       "      <td>nocall</td>\n",
       "      <td>0</td>\n",
       "      <td>[0.018344874, 0.04597478, 0.05685617, 0.049335...</td>\n",
       "      <td>20190904</td>\n",
       "    </tr>\n",
       "    <tr>\n",
       "      <th>3</th>\n",
       "      <td>7019_COR_20</td>\n",
       "      <td>COR</td>\n",
       "      <td>7019</td>\n",
       "      <td>20</td>\n",
       "      <td>nocall</td>\n",
       "      <td>0</td>\n",
       "      <td>[-0.10187924, -0.13058019, -0.11406977, -0.125...</td>\n",
       "      <td>20190904</td>\n",
       "    </tr>\n",
       "    <tr>\n",
       "      <th>4</th>\n",
       "      <td>7019_COR_25</td>\n",
       "      <td>COR</td>\n",
       "      <td>7019</td>\n",
       "      <td>25</td>\n",
       "      <td>nocall</td>\n",
       "      <td>0</td>\n",
       "      <td>[0.05506949, 0.050840594, 0.057296656, 0.06219...</td>\n",
       "      <td>20190904</td>\n",
       "    </tr>\n",
       "    <tr>\n",
       "      <th>...</th>\n",
       "      <td>...</td>\n",
       "      <td>...</td>\n",
       "      <td>...</td>\n",
       "      <td>...</td>\n",
       "      <td>...</td>\n",
       "      <td>...</td>\n",
       "      <td>...</td>\n",
       "      <td>...</td>\n",
       "    </tr>\n",
       "    <tr>\n",
       "      <th>2395</th>\n",
       "      <td>54955_SSW_580</td>\n",
       "      <td>SSW</td>\n",
       "      <td>54955</td>\n",
       "      <td>580</td>\n",
       "      <td>nocall</td>\n",
       "      <td>0</td>\n",
       "      <td>[-0.03387017, -0.024345992, -0.016776666, -0.0...</td>\n",
       "      <td>20170617</td>\n",
       "    </tr>\n",
       "    <tr>\n",
       "      <th>2396</th>\n",
       "      <td>54955_SSW_585</td>\n",
       "      <td>SSW</td>\n",
       "      <td>54955</td>\n",
       "      <td>585</td>\n",
       "      <td>grycat</td>\n",
       "      <td>1</td>\n",
       "      <td>[0.1394074, 0.14445972, 0.14525153, 0.14363474...</td>\n",
       "      <td>20170617</td>\n",
       "    </tr>\n",
       "    <tr>\n",
       "      <th>2397</th>\n",
       "      <td>54955_SSW_590</td>\n",
       "      <td>SSW</td>\n",
       "      <td>54955</td>\n",
       "      <td>590</td>\n",
       "      <td>grycat</td>\n",
       "      <td>1</td>\n",
       "      <td>[-0.0086922, -0.013638088, -0.022163874, -0.01...</td>\n",
       "      <td>20170617</td>\n",
       "    </tr>\n",
       "    <tr>\n",
       "      <th>2398</th>\n",
       "      <td>54955_SSW_595</td>\n",
       "      <td>SSW</td>\n",
       "      <td>54955</td>\n",
       "      <td>595</td>\n",
       "      <td>nocall</td>\n",
       "      <td>0</td>\n",
       "      <td>[0.055847555, 0.041066542, 0.025795452, 0.0165...</td>\n",
       "      <td>20170617</td>\n",
       "    </tr>\n",
       "    <tr>\n",
       "      <th>2399</th>\n",
       "      <td>54955_SSW_600</td>\n",
       "      <td>SSW</td>\n",
       "      <td>54955</td>\n",
       "      <td>600</td>\n",
       "      <td>nocall</td>\n",
       "      <td>0</td>\n",
       "      <td>[-0.044570368, -0.047467723, -0.042616002, -0....</td>\n",
       "      <td>20170617</td>\n",
       "    </tr>\n",
       "  </tbody>\n",
       "</table>\n",
       "<p>2400 rows × 8 columns</p>\n",
       "</div>"
      ],
      "text/plain": [
       "             row_id site  audio_id  seconds   birds  is_call  \\\n",
       "0        7019_COR_5  COR      7019        5  nocall        0   \n",
       "1       7019_COR_10  COR      7019       10  nocall        0   \n",
       "2       7019_COR_15  COR      7019       15  nocall        0   \n",
       "3       7019_COR_20  COR      7019       20  nocall        0   \n",
       "4       7019_COR_25  COR      7019       25  nocall        0   \n",
       "...             ...  ...       ...      ...     ...      ...   \n",
       "2395  54955_SSW_580  SSW     54955      580  nocall        0   \n",
       "2396  54955_SSW_585  SSW     54955      585  grycat        1   \n",
       "2397  54955_SSW_590  SSW     54955      590  grycat        1   \n",
       "2398  54955_SSW_595  SSW     54955      595  nocall        0   \n",
       "2399  54955_SSW_600  SSW     54955      600  nocall        0   \n",
       "\n",
       "                                                 signal      date  \n",
       "0     [-0.08553279, -0.08384135, -0.041250665, -0.01...  20190904  \n",
       "1     [0.021114878, 0.003057547, -0.02268604, 0.0004...  20190904  \n",
       "2     [0.018344874, 0.04597478, 0.05685617, 0.049335...  20190904  \n",
       "3     [-0.10187924, -0.13058019, -0.11406977, -0.125...  20190904  \n",
       "4     [0.05506949, 0.050840594, 0.057296656, 0.06219...  20190904  \n",
       "...                                                 ...       ...  \n",
       "2395  [-0.03387017, -0.024345992, -0.016776666, -0.0...  20170617  \n",
       "2396  [0.1394074, 0.14445972, 0.14525153, 0.14363474...  20170617  \n",
       "2397  [-0.0086922, -0.013638088, -0.022163874, -0.01...  20170617  \n",
       "2398  [0.055847555, 0.041066542, 0.025795452, 0.0165...  20170617  \n",
       "2399  [-0.044570368, -0.047467723, -0.042616002, -0....  20170617  \n",
       "\n",
       "[2400 rows x 8 columns]"
      ]
     },
     "execution_count": 19,
     "metadata": {},
     "output_type": "execute_result"
    }
   ],
   "source": [
    "def load_signal(row):\n",
    "    file_prefix = \"{}_{}\".format(row[\"audio_id\"], row[\"site\"])\n",
    "    row[\"date\"], row[\"signal\"] = load_soundscape_audio(\n",
    "        file_prefix,\n",
    "        DATA_PATH + \"/train_soundscapes\",\n",
    "        sr=SAMPLE_RATE,\n",
    "        offset=row[\"seconds\"] - 5,\n",
    "        duration=5,\n",
    "    )\n",
    "\n",
    "    return row\n",
    "\n",
    "\n",
    "df = df.swifter.apply(load_signal, axis=1)\n",
    "df"
   ]
  },
  {
   "cell_type": "code",
   "execution_count": 20,
   "metadata": {},
   "outputs": [],
   "source": [
    "df.to_csv(DATA_PATH + \"/outputs/train_detector.csv\")"
   ]
  },
  {
   "cell_type": "code",
   "execution_count": 28,
   "metadata": {},
   "outputs": [],
   "source": [
    "df[\"mel_spec\"] = df[\"signal\"].apply(lambda x: get_mel_spec(x))"
   ]
  },
  {
   "cell_type": "code",
   "execution_count": 33,
   "metadata": {},
   "outputs": [],
   "source": [
    "spec_df = df[[\"mel_spec\", \"is_call\"]]"
   ]
  },
  {
   "cell_type": "code",
   "execution_count": 37,
   "metadata": {},
   "outputs": [
    {
     "name": "stderr",
     "output_type": "stream",
     "text": [
      "MatplotlibDeprecationWarning: The 'basey' parameter of __init__() has been renamed 'base' since Matplotlib 3.3; support for the old name will be dropped two minor releases later.\n",
      "MatplotlibDeprecationWarning: The 'linthreshy' parameter of __init__() has been renamed 'linthresh' since Matplotlib 3.3; support for the old name will be dropped two minor releases later.\n"
     ]
    },
    {
     "data": {
      "image/png": "[encoded data removed]",
      "text/plain": [
       "<Figure size 720x288 with 2 Axes>"
      ]
     },
     "metadata": {
      "needs_background": "light"
     },
     "output_type": "display_data"
    }
   ],
   "source": [
    "plt.figure(figsize=(10, 4))\n",
    "librosa.display.specshow(\n",
    "    spec_df[spec_df[\"is_call\"] == 1][\"mel_spec\"].iloc[0], \n",
    "    sr=SAMPLE_RATE, \n",
    "    y_axis=\"mel\", \n",
    "    fmax=None, \n",
    "    x_axis=\"time\"\n",
    ")\n",
    "plt.colorbar(format=\"%+2.0f dB\")\n",
    "plt.title(\"Mel spectrogram\")\n",
    "plt.tight_layout()"
   ]
  },
  {
   "cell_type": "code",
   "execution_count": 38,
   "metadata": {},
   "outputs": [
    {
     "name": "stderr",
     "output_type": "stream",
     "text": [
      "MatplotlibDeprecationWarning: The 'basey' parameter of __init__() has been renamed 'base' since Matplotlib 3.3; support for the old name will be dropped two minor releases later.\n",
      "MatplotlibDeprecationWarning: The 'linthreshy' parameter of __init__() has been renamed 'linthresh' since Matplotlib 3.3; support for the old name will be dropped two minor releases later.\n"
     ]
    },
    {
     "data": {
      "image/png": "[encoded data removed]",
      "text/plain": [
       "<Figure size 720x288 with 2 Axes>"
      ]
     },
     "metadata": {
      "needs_background": "light"
     },
     "output_type": "display_data"
    }
   ],
   "source": [
    "plt.figure(figsize=(10, 4))\n",
    "librosa.display.specshow(\n",
    "    spec_df[spec_df[\"is_call\"] == 0][\"mel_spec\"].iloc[0], \n",
    "    sr=SAMPLE_RATE, \n",
    "    y_axis=\"mel\", \n",
    "    fmax=None, \n",
    "    x_axis=\"time\"\n",
    ")\n",
    "plt.colorbar(format=\"%+2.0f dB\")\n",
    "plt.title(\"Mel spectrogram\")\n",
    "plt.tight_layout()"
   ]
  },
  {
   "cell_type": "markdown",
   "metadata": {},
   "source": [
    "---"
   ]
  },
  {
   "cell_type": "markdown",
   "metadata": {},
   "source": [
    "## Model"
   ]
  },
  {
   "cell_type": "code",
   "execution_count": 39,
   "metadata": {},
   "outputs": [],
   "source": [
    "import keras\n",
    "from sklearn.model_selection import train_test_split\n",
    "from sklearn.utils import class_weight"
   ]
  },
  {
   "cell_type": "code",
   "execution_count": 50,
   "metadata": {},
   "outputs": [],
   "source": [
    "# Adding channel dimension needed for ConvNets\n",
    "X = np.expand_dims(np.array(df[\"mel_spec\"].to_list()), axis=3)\n",
    "y = df[\"is_call\"].to_numpy()\n",
    "\n",
    "# Splitting into training and test sets\n",
    "X_train, X_test, y_train, y_test = train_test_split(X, y, test_size=0.2)\n",
    "\n",
    "# Compute class weights\n",
    "weights = class_weight.compute_class_weight('balanced', np.unique(y_train), y_train)\n",
    "weights = {x: weights[x] for x in range(len(weights))}"
   ]
  },
  {
   "cell_type": "code",
   "execution_count": 51,
   "metadata": {},
   "outputs": [
    {
     "data": {
      "text/plain": [
       "{0: 0.7894736842105263, 1: 1.3636363636363635}"
      ]
     },
     "execution_count": 51,
     "metadata": {},
     "output_type": "execute_result"
    }
   ],
   "source": [
    "weights"
   ]
  },
  {
   "cell_type": "code",
   "execution_count": 64,
   "metadata": {},
   "outputs": [
    {
     "name": "stdout",
     "output_type": "stream",
     "text": [
      "Model: \"sequential_8\"\n",
      "_________________________________________________________________\n",
      "Layer (type)                 Output Shape              Param #   \n",
      "=================================================================\n",
      "conv2d_20 (Conv2D)           (None, 109, 294, 20)      8020      \n",
      "_________________________________________________________________\n",
      "max_pooling2d_18 (MaxPooling (None, 27, 73, 20)        0         \n",
      "_________________________________________________________________\n",
      "conv2d_21 (Conv2D)           (None, 18, 64, 20)        40020     \n",
      "_________________________________________________________________\n",
      "max_pooling2d_19 (MaxPooling (None, 9, 32, 20)         0         \n",
      "_________________________________________________________________\n",
      "conv2d_22 (Conv2D)           (None, 5, 28, 20)         10020     \n",
      "_________________________________________________________________\n",
      "max_pooling2d_20 (MaxPooling (None, 2, 14, 20)         0         \n",
      "_________________________________________________________________\n",
      "flatten_4 (Flatten)          (None, 560)               0         \n",
      "_________________________________________________________________\n",
      "dense_4 (Dense)              (None, 1)                 561       \n",
      "=================================================================\n",
      "Total params: 58,621\n",
      "Trainable params: 58,621\n",
      "Non-trainable params: 0\n",
      "_________________________________________________________________\n"
     ]
    }
   ],
   "source": [
    "x_size = X_train[0].shape[0]\n",
    "y_size = X_train[0].shape[1]\n",
    "\n",
    "model = keras.models.Sequential()\n",
    "model.add(keras.layers.Conv2D(filters=20, \n",
    "                              input_shape=(x_size, y_size, 1), \n",
    "                              data_format=\"channels_last\",\n",
    "                              kernel_size=(20, 20),\n",
    "                              strides=(1, 1),\n",
    "                              activation='relu', \n",
    "                              kernel_initializer=keras.initializers.glorot_normal()))\n",
    "model.add(keras.layers.MaxPooling2D(pool_size=(4, 4), \n",
    "                                    strides=(4, 4)))\n",
    "model.add(keras.layers.Conv2D(filters=20, \n",
    "                              data_format=\"channels_last\",\n",
    "                              kernel_size=(10, 10),\n",
    "                              strides=(1, 1),\n",
    "                              activation='relu', \n",
    "                              kernel_initializer=keras.initializers.glorot_normal()))\n",
    "model.add(keras.layers.MaxPooling2D(pool_size=(2, 2), \n",
    "                                    strides=(2, 2)))\n",
    "model.add(keras.layers.Conv2D(filters=20, \n",
    "                              data_format=\"channels_last\",\n",
    "                              kernel_size=(5, 5),\n",
    "                              strides=(1, 1),\n",
    "                              activation='relu', \n",
    "                              kernel_initializer=keras.initializers.glorot_normal()))\n",
    "model.add(keras.layers.MaxPooling2D(pool_size=(2, 2), \n",
    "                                    strides=(2, 2)))\n",
    "model.add(keras.layers.Flatten())\n",
    "model.add(keras.layers.Dense(1, \n",
    "                             activation='sigmoid',\n",
    "                             kernel_initializer=keras.initializers.glorot_normal()))\n",
    "model.compile(loss='binary_crossentropy', optimizer='adam', metrics=['accuracy'])\n",
    "model.summary()"
   ]
  },
  {
   "cell_type": "code",
   "execution_count": 68,
   "metadata": {},
   "outputs": [
    {
     "name": "stdout",
     "output_type": "stream",
     "text": [
      "Epoch 1/10\n",
      "48/48 [==============================] - 165s 3s/step - loss: 0.3292 - accuracy: 0.8672 - val_loss: 0.8316 - val_accuracy: 0.8073\n",
      "Epoch 2/10\n",
      "48/48 [==============================] - 164s 3s/step - loss: 0.3098 - accuracy: 0.8652 - val_loss: 1.1297 - val_accuracy: 0.8021\n",
      "Epoch 3/10\n",
      "48/48 [==============================] - 161s 3s/step - loss: 0.2839 - accuracy: 0.8861 - val_loss: 0.9664 - val_accuracy: 0.8620\n",
      "Epoch 4/10\n",
      "48/48 [==============================] - 161s 3s/step - loss: 0.2832 - accuracy: 0.8750 - val_loss: 1.4411 - val_accuracy: 0.7240\n",
      "Epoch 5/10\n",
      "48/48 [==============================] - 162s 3s/step - loss: 0.2669 - accuracy: 0.8952 - val_loss: 1.3965 - val_accuracy: 0.8490\n",
      "Epoch 6/10\n",
      "48/48 [==============================] - 161s 3s/step - loss: 0.4131 - accuracy: 0.8600 - val_loss: 1.0894 - val_accuracy: 0.7917\n",
      "Epoch 7/10\n",
      "48/48 [==============================] - 161s 3s/step - loss: 0.3125 - accuracy: 0.8652 - val_loss: 1.1879 - val_accuracy: 0.8359\n",
      "Epoch 8/10\n",
      "48/48 [==============================] - 162s 3s/step - loss: 0.2640 - accuracy: 0.8848 - val_loss: 1.4689 - val_accuracy: 0.8047\n"
     ]
    },
    {
     "data": {
      "text/plain": [
       "<tensorflow.python.keras.callbacks.History at 0x7f668107c0d0>"
      ]
     },
     "execution_count": 68,
     "metadata": {},
     "output_type": "execute_result"
    }
   ],
   "source": [
    "batch_size=32\n",
    "epochs = 10\n",
    "\n",
    "callback = keras.callbacks.EarlyStopping(monitor='accuracy', patience=3)\n",
    "model.fit(x=X_train, \n",
    "          y=y_train, \n",
    "          batch_size=batch_size, \n",
    "          epochs=epochs, \n",
    "          callbacks=[callback],\n",
    "          validation_split=0.2,\n",
    "          class_weight=weights)"
   ]
  },
  {
   "cell_type": "markdown",
   "metadata": {},
   "source": [
    "## Model performance"
   ]
  },
  {
   "cell_type": "code",
   "execution_count": 69,
   "metadata": {},
   "outputs": [],
   "source": [
    "from sklearn.metrics import roc_curve, auc"
   ]
  },
  {
   "cell_type": "code",
   "execution_count": null,
   "metadata": {},
   "outputs": [],
   "source": [
    "y_test_pred = model.predict(x=X_test)"
   ]
  },
  {
   "cell_type": "code",
   "execution_count": 70,
   "metadata": {},
   "outputs": [
    {
     "data": {
      "text/plain": [
       "<matplotlib.legend.Legend at 0x7f66815d9280>"
      ]
     },
     "execution_count": 70,
     "metadata": {},
     "output_type": "execute_result"
    },
    {
     "data": {
      "image/png": "[encoded data removed]",
      "text/plain": [
       "<Figure size 432x288 with 1 Axes>"
      ]
     },
     "metadata": {
      "needs_background": "light"
     },
     "output_type": "display_data"
    }
   ],
   "source": [
    "fpr, tpr, thresholds = roc_curve(y_test, y_test_pred)\n",
    "\n",
    "plt.plot([0, 1], [0, 1], linestyle='--', lw=2, color='r', label='Chance', alpha=.8)\n",
    "plt.plot(fpr, tpr, label=r'AUC = %0.2f' % (auc(fpr, tpr)))\n",
    "plt.xlim([-0.01, 1.01])\n",
    "plt.ylim([-0.01, 1.01])\n",
    "plt.xlabel('False Positive Rate')\n",
    "plt.ylabel('True Positive Rate')\n",
    "plt.title('Receiver operating characteristic example')\n",
    "plt.legend(loc=\"lower right\")"
   ]
  },
  {
   "cell_type": "code",
   "execution_count": null,
   "metadata": {},
   "outputs": [],
   "source": []
  }
 ],
 "metadata": {
  "kernelspec": {
   "display_name": "Python 3",
   "language": "python",
   "name": "python3"
  },
  "language_info": {
   "codemirror_mode": {
    "name": "ipython",
    "version": 3
   },
   "file_extension": ".py",
   "mimetype": "text/x-python",
   "name": "python",
   "nbconvert_exporter": "python",
   "pygments_lexer": "ipython3",
   "version": "3.8.5"
  }
 },
 "nbformat": 4,
 "nbformat_minor": 4
}
